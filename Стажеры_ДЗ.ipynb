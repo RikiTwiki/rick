{
 "cells": [
  {
   "cell_type": "markdown",
   "metadata": {
    "id": "FS4Oyvz3Xa81"
   },
   "source": [
    "Atalov S. (TSI AUCA)\n",
    "\n",
    "---"
   ]
  },
  {
   "cell_type": "markdown",
   "metadata": {
    "id": "jjq5nqTwXa89"
   },
   "source": [
    "### NAME: \n",
    "### DATE: 5 Feb 22"
   ]
  },
  {
   "cell_type": "markdown",
   "metadata": {
    "id": "v1m2Y1LWXa8-"
   },
   "source": [
    "### 1. A list with numbers is given. Collect in a new list all numbers less than 10.\n",
    "Дается список с числами. Собрать в новом списке все числа которые меньше 10."
   ]
  },
  {
   "cell_type": "code",
   "execution_count": 4,
   "metadata": {
    "id": "tEORtE9AXa8_"
   },
   "outputs": [
    {
     "name": "stdout",
     "output_type": "stream",
     "text": [
      "[-1, 0, 1, 2, 3, 4, 5, 6, 7, 8, 9]\n"
     ]
    }
   ],
   "source": [
    "L = [-1, 0, 1, 2, 3, 4, 5, 6, 7, 8, 9, 10, 11, 12, 13, 14, 15, 16, 17, 18, 19]\n",
    "\n",
    "than_10 = []\n",
    "for num in L:\n",
    "    if num < 10:\n",
    "        than_10.append(num)\n",
    "print(than_10)\n"
   ]
  },
  {
   "cell_type": "markdown",
   "metadata": {
    "id": "_nHT1s5kXa9A"
   },
   "source": [
    "### 2. A list with numbers is given. Collect in a new list all the numbers that are divisible by 3 and 5.\n",
    "Дается список с числами. Собрать в новом списке все числа которые делятся на 3 и на 5."
   ]
  },
  {
   "cell_type": "code",
   "execution_count": 5,
   "metadata": {
    "id": "vDgH6fzXXa9B"
   },
   "outputs": [
    {
     "name": "stdout",
     "output_type": "stream",
     "text": [
      "[0, 15]\n"
     ]
    }
   ],
   "source": [
    "L = [-1, 0, 1, 2, 3, 4, 5, 6, 7, 8, 9, 10, 11, 12, 13, 14, 15, 16, 17, 18, 19]\n",
    "\n",
    "sorted = []\n",
    "\n",
    "for num in L:\n",
    "    if num % 3 == 0 and num % 5 == 0:\n",
    "        sorted.append(num)\n",
    "\n",
    "print(sorted)"
   ]
  },
  {
   "cell_type": "markdown",
   "metadata": {
    "id": "-zAbtVRrXa9C"
   },
   "source": [
    "### 3. A list with numbers is given. Collect in the new list the squares (to the second degree) of all numbers that are less than 10\n",
    "Дается список с числами. Собрать в новом списке квадраты (во второй степени) всех чисел которые меньше 10"
   ]
  },
  {
   "cell_type": "code",
   "execution_count": 8,
   "metadata": {
    "id": "NzHFxaarXa9D"
   },
   "outputs": [
    {
     "name": "stdout",
     "output_type": "stream",
     "text": [
      "[1, 0, 1, 4, 9, 16, 25, 36, 49, 64, 81]\n"
     ]
    }
   ],
   "source": [
    "L = [-1, 0, 1, 2, 3, 4, 5, 6, 7, 8, 9, 10, 11, 12, 13, 14, 15, 16, 17, 18, 19]\n",
    "\n",
    "squares = []\n",
    "\n",
    "for num in L:\n",
    "    if num < 10:\n",
    "        squares.append(num**2)\n",
    "\n",
    "print(squares)\n"
   ]
  },
  {
   "cell_type": "markdown",
   "metadata": {
    "id": "Xv9Cc0L2Xa9E"
   },
   "source": [
    "### 4. A list with numbers is given. Find the number of positive elements in the given list.\n",
    "Дается список с числами. Найдите количество положительных элементов в данном списке."
   ]
  },
  {
   "cell_type": "code",
   "execution_count": 10,
   "metadata": {
    "id": "sY4FAb0jXa9F"
   },
   "outputs": [
    {
     "name": "stdout",
     "output_type": "stream",
     "text": [
      "13\n"
     ]
    }
   ],
   "source": [
    "L = [-1, 0, -1, -2, -3, 4, 5, 6, -7, 8, 9, -10, 11, 12, -13, 14, 15, -16, 17, 18, 19]\n",
    "\n",
    "count = 0\n",
    "\n",
    "for num in L:\n",
    "    if num >= 0:\n",
    "        count += 1\n",
    "\n",
    "print(count)"
   ]
  },
  {
   "cell_type": "markdown",
   "metadata": {
    "id": "JwbLLpg_Xa9G"
   },
   "source": [
    "### 5. A list with numbers is given. Output the value of the smallest of all positive elements in the given list. (don't use list methods!)\n",
    "Дается список с числами. Выведите значение наименьшего из всех положительных элементов в данном списке. (Нельзя использовать готовые методы списков!)"
   ]
  },
  {
   "cell_type": "code",
   "execution_count": 16,
   "metadata": {
    "id": "dm10n0LxXa9G"
   },
   "outputs": [
    {
     "name": "stdout",
     "output_type": "stream",
     "text": [
      "4\n"
     ]
    }
   ],
   "source": [
    "L = [-1, 5, -1, -2, -3, 4, 5, 6, -7, 8, 9, -10, 11, 12, -13, 14, 15, -16, 17, 18, 19]\n",
    "\n",
    "minPositive = None\n",
    "\n",
    "for num in L:\n",
    "    if num > 0:\n",
    "        if minPositive is None:\n",
    "            minPositive = num\n",
    "        elif num < minPositive:\n",
    "            minPositive = num\n",
    "\n",
    "if minPositive is not None:\n",
    "    print(minPositive)"
   ]
  },
  {
   "cell_type": "markdown",
   "metadata": {
    "id": "s_l9mgllXa9H"
   },
   "source": [
    "### 6. A list with numbers is given. Print the value of the smallest odd element in the given list.\n",
    "Дается список с числами. Выведите значение наименьшего нечетного элемента в данном списке.\n"
   ]
  },
  {
   "cell_type": "code",
   "execution_count": 18,
   "metadata": {
    "id": "-E1IX6vpXa9H"
   },
   "outputs": [
    {
     "name": "stdout",
     "output_type": "stream",
     "text": [
      "-13\n"
     ]
    }
   ],
   "source": [
    "L = [-1, 5, -1, -2, -3, 4, 5, 6, -7, 8, 9, -10, 11, 12, -13, 14, 15, -16, 17, 18, 19]\n",
    "\n",
    "minOdd = None\n",
    "\n",
    "for num in L:\n",
    "    if num % 2 != 0:\n",
    "        if minOdd is None:\n",
    "            minOdd = num\n",
    "        elif num < minOdd:\n",
    "            minOdd = num\n",
    "\n",
    "if minOdd is not None:\n",
    "    print(minOdd)"
   ]
  },
  {
   "cell_type": "markdown",
   "metadata": {
    "id": "izarqSVAXa9I"
   },
   "source": [
    "### 7. A list with numbers is given. Output the elements of this list in reverse order. (don't use list methods!)\n",
    "Дается список с числами. Выведите элементы данного списка в обратном порядке. (Нельзя использовать готовые методы списков!)"
   ]
  },
  {
   "cell_type": "code",
   "execution_count": 23,
   "metadata": {
    "id": "ACjFuXZbXa9I"
   },
   "outputs": [
    {
     "name": "stdout",
     "output_type": "stream",
     "text": [
      "[19, 18, 17, -16, 15, 14, -13, 12, 11, -10, 9, 8, -7, 6, 5, 4, -3, -2, -1, 5, -1]\n"
     ]
    }
   ],
   "source": [
    "L = [-1, 5, -1, -2, -3, 4, 5, 6, -7, 8, 9, -10, 11, 12, -13, 14, 15, -16, 17, 18, 19]\n",
    "\n",
    "reversedList = []\n",
    "\n",
    "for i in range(len(L)-1, -1, -1):\n",
    "    reversedList.append(L[i])\n",
    "\n",
    "print(reversedList)"
   ]
  },
  {
   "cell_type": "markdown",
   "metadata": {
    "id": "w3yPg-5DXa9J"
   },
   "source": [
    "### 8. Given a list. Determine which number appears most often in this list. If there are several such numbers, print any of them. (don't use list methods!)\n",
    "Дан список. Определите, какое число в этом списке встречается чаще всего. Если таких чисел несколько, выведите любое из них. (Нельзя использовать готовые методы списков!)\n",
    "\n"
   ]
  },
  {
   "cell_type": "code",
   "execution_count": 26,
   "metadata": {
    "id": "xP8aogeNXa9J"
   },
   "outputs": [
    {
     "name": "stdout",
     "output_type": "stream",
     "text": [
      "1\n"
     ]
    }
   ],
   "source": [
    "L = [1, 5, 1, 2, 3, 4, 5, 6, 2, 8, 3, 1, 1, 12, 13, 14, 15, 16, 17, 12, 1]\n",
    "\n",
    "maxCount = 0\n",
    "mostCommon = None\n",
    "\n",
    "for i in range(len(L)):\n",
    "    count = 0\n",
    "    for j in range(len(L)):\n",
    "        if L[i] == L[j]:\n",
    "            count += 1\n",
    "    if count > maxCount:\n",
    "        maxCount = count\n",
    "        mostCommon = L[i]\n",
    "\n",
    "print(mostCommon)\n"
   ]
  },
  {
   "cell_type": "code",
   "execution_count": null,
   "metadata": {},
   "outputs": [],
   "source": []
  }
 ],
 "metadata": {
  "colab": {
   "name": "4_Class_Exercises.ipynb",
   "provenance": []
  },
  "kernelspec": {
   "display_name": "Python 3 (ipykernel)",
   "language": "python",
   "name": "python3"
  },
  "language_info": {
   "codemirror_mode": {
    "name": "ipython",
    "version": 3
   },
   "file_extension": ".py",
   "mimetype": "text/x-python",
   "name": "python",
   "nbconvert_exporter": "python",
   "pygments_lexer": "ipython3",
   "version": "3.10.9"
  }
 },
 "nbformat": 4,
 "nbformat_minor": 1
}
